{
  "nbformat": 4,
  "nbformat_minor": 0,
  "metadata": {
    "colab": {
      "name": "gen_folders_script.ipynb",
      "provenance": [],
      "collapsed_sections": [],
      "authorship_tag": "ABX9TyM3pRlpRzTNDGssyTj2s2JC",
      "include_colab_link": true
    },
    "kernelspec": {
      "name": "python3",
      "display_name": "Python 3"
    }
  },
  "cells": [
    {
      "cell_type": "markdown",
      "metadata": {
        "id": "view-in-github",
        "colab_type": "text"
      },
      "source": [
        "<a href=\"https://colab.research.google.com/github/hazamaswag/Personal-Projects/blob/master/gen_folders_script.ipynb\" target=\"_parent\"><img src=\"https://colab.research.google.com/assets/colab-badge.svg\" alt=\"Open In Colab\"/></a>"
      ]
    },
    {
      "cell_type": "code",
      "metadata": {
        "id": "bDjkh5Dx3sqo",
        "outputId": "0a9e05ef-3cb1-4d72-d7f4-f0462348171d",
        "colab": {
          "base_uri": "https://localhost:8080/",
          "height": 34
        }
      },
      "source": [
        "from google.colab import drive\n",
        "drive.mount('/content/gdrive')"
      ],
      "execution_count": 3,
      "outputs": [
        {
          "output_type": "stream",
          "text": [
            "Mounted at /content/gdrive\n"
          ],
          "name": "stdout"
        }
      ]
    },
    {
      "cell_type": "code",
      "metadata": {
        "id": "GM1JI7Q8gpnN"
      },
      "source": [
        "from google.colab import auth\n",
        "auth.authenticate_user()\n",
        "from googleapiclient.discovery import build\n",
        "drive_service = build('drive', 'v3')"
      ],
      "execution_count": 4,
      "outputs": []
    },
    {
      "cell_type": "code",
      "metadata": {
        "id": "99tTEL718VYf"
      },
      "source": [
        "def gen_ep_folders(start, num):\n",
        "  for i in range(start, num + start):\n",
        "    ep_name = 'ep' + str(i)\n",
        "\n",
        "    file_metadata = {\n",
        "      'name': [ep_name],\n",
        "      'mimeType': 'application/vnd.google-apps.folder'\n",
        "    }\n",
        "    ep_folder = drive_service.files().create(body=file_metadata, fields='id').execute()\n",
        "\n",
        "    file_metadata = {\n",
        "      'name': 'final',\n",
        "      'parents': [ep_folder.get('id')],\n",
        "      'mimeType': 'application/vnd.google-apps.folder'\n",
        "    }\n",
        "    final_folder = drive_service.files().create(body=file_metadata, fields='id').execute()\n",
        "    \n",
        "    file_metadata = {\n",
        "      'name': 'raw',\n",
        "      'parents': [ep_folder.get('id')],\n",
        "      'mimeType': 'application/vnd.google-apps.folder'\n",
        "    }\n",
        "    raw_folder = drive_service.files().create(body=file_metadata,fields='id').execute()\n",
        "\n",
        "    file_metadata = {\n",
        "      'name': [ep_name + '_topics'],\n",
        "      'parents': [ep_folder.get('id')],\n",
        "      'mimeType': 'application/vnd.google-apps.document',\n",
        "    }\n",
        "    topics_file = drive_service.files().create(body=file_metadata, fields='id').execute()\n",
        "\n",
        "    # copying file for details (need to have a file to copy with its ID)\n",
        "    file_metadata = {\n",
        "      'name': [ep_name + '_details'],\n",
        "      'parents': [ep_folder.get('id')],\n",
        "      'mimeType': 'application/vnd.google-apps.document',\n",
        "    }\n",
        "    details_file = drive_service.files().copy(fileId=\"1WDTrpAFtlQOzQSVkeXqYvNPsIkQVwtnba4qnuxbkjKk\", body=file_metadata).execute()"
      ],
      "execution_count": 10,
      "outputs": []
    },
    {
      "cell_type": "code",
      "metadata": {
        "id": "nHkCFO9J4bQK"
      },
      "source": [
        "# Episode number to start the generation. \n",
        "# Example: if episode structure is ep0 -> ep7, then start would be: 8\n",
        "start = 5\n",
        "\n",
        "# Number of folders to generate\n",
        "num_to_generate = 5\n",
        "\n",
        "# Function that generates folders, as well as subfolders\n",
        "# Example: if gen_ep_folders(2, 3) is run,\n",
        "#          then, folders: ep2, ep3, ep4 will be created\n",
        "#          these folders will have subfolders: final, raw\n",
        "#          with files: ep#_topics and ep#_details\n",
        "gen_ep_folders(start, num_to_generate)"
      ],
      "execution_count": 12,
      "outputs": []
    },
    {
      "cell_type": "code",
      "metadata": {
        "id": "ZT6goo8K20bA"
      },
      "source": [
        ""
      ],
      "execution_count": null,
      "outputs": []
    }
  ]
}