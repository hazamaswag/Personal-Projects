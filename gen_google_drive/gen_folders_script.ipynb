{
  "nbformat": 4,
  "nbformat_minor": 0,
  "metadata": {
    "colab": {
      "name": "gen_folders_script.ipynb",
      "provenance": [],
      "collapsed_sections": [],
      "authorship_tag": "ABX9TyOyuuKztDv3GDQIfGCylhH4",
      "include_colab_link": true
    },
    "kernelspec": {
      "name": "python3",
      "display_name": "Python 3"
    }
  },
  "cells": [
    {
      "cell_type": "markdown",
      "metadata": {
        "id": "view-in-github",
        "colab_type": "text"
      },
      "source": [
        "<a href=\"https://colab.research.google.com/github/hazamaswag/Personal-Projects/blob/master/gen_folders_script.ipynb\" target=\"_parent\"><img src=\"https://colab.research.google.com/assets/colab-badge.svg\" alt=\"Open In Colab\"/></a>"
      ]
    },
    {
      "cell_type": "code",
      "metadata": {
        "id": "bDjkh5Dx3sqo",
        "colab_type": "code",
        "colab": {
          "base_uri": "https://localhost:8080/",
          "height": 34
        },
        "outputId": "1c8fa00c-d100-4d80-ffb1-ded1b01cf86e"
      },
      "source": [
        "from google.colab import drive\n",
        "drive.mount('/content/gdrive')"
      ],
      "execution_count": 5,
      "outputs": [
        {
          "output_type": "stream",
          "text": [
            "Drive already mounted at /content/gdrive; to attempt to forcibly remount, call drive.mount(\"/content/gdrive\", force_remount=True).\n"
          ],
          "name": "stdout"
        }
      ]
    },
    {
      "cell_type": "code",
      "metadata": {
        "id": "GM1JI7Q8gpnN",
        "colab_type": "code",
        "colab": {}
      },
      "source": [
        "from google.colab import auth\n",
        "auth.authenticate_user()\n",
        "from googleapiclient.discovery import build\n",
        "drive_service = build('drive', 'v3')"
      ],
      "execution_count": 6,
      "outputs": []
    },
    {
      "cell_type": "code",
      "metadata": {
        "id": "99tTEL718VYf",
        "colab_type": "code",
        "colab": {}
      },
      "source": [
        "def gen_ep_folders(start, num):\n",
        "  for i in range(start, num + start):\n",
        "    ep_name = 'ep' + str(i)\n",
        "\n",
        "    file_metadata = {\n",
        "      'name': [ep_name],\n",
        "      'mimeType': 'application/vnd.google-apps.folder'\n",
        "    }\n",
        "    ep_folder = drive_service.files().create(body=file_metadata, fields='id').execute()\n",
        "\n",
        "    file_metadata = {\n",
        "      'name': 'final',\n",
        "      'parents': [ep_folder.get('id')],\n",
        "      'mimeType': 'application/vnd.google-apps.folder'\n",
        "    }\n",
        "    final_folder = drive_service.files().create(body=file_metadata, fields='id').execute()\n",
        "    \n",
        "    file_metadata = {\n",
        "      'name': 'raw',\n",
        "      'parents': [ep_folder.get('id')],\n",
        "      'mimeType': 'application/vnd.google-apps.folder'\n",
        "    }\n",
        "    raw_folder = drive_service.files().create(body=file_metadata,fields='id').execute()\n",
        "\n",
        "    file_metadata = {\n",
        "      'name': [ep_name + '_topics'],\n",
        "      'parents': [ep_folder.get('id')],\n",
        "      'mimeType': 'application/vnd.google-apps.document',\n",
        "    }\n",
        "    topics_file = drive_service.files().create(body=file_metadata, fields='id').execute()"
      ],
      "execution_count": 7,
      "outputs": []
    },
    {
      "cell_type": "code",
      "metadata": {
        "id": "nHkCFO9J4bQK",
        "colab_type": "code",
        "colab": {}
      },
      "source": [
        "# Episode number to start the generation. \n",
        "# Example: if episode structure is ep0 -> ep7, then start would be: 8\n",
        "start = 3\n",
        "\n",
        "# Number of folders to generate\n",
        "num_to_generate = 3\n",
        "\n",
        "# Function that generates folders, as well as subfolders\n",
        "# Example: if gen_ep_folders(2, 3) is run,\n",
        "#          then, folders: ep2, ep3, ep4 will be created\n",
        "#          these folders will have subfolders: final, raw\n",
        "#          and file ep#_topics\n",
        "gen_ep_folders(start, num_to_generate)"
      ],
      "execution_count": 9,
      "outputs": []
    },
    {
      "cell_type": "code",
      "metadata": {
        "id": "ZT6goo8K20bA",
        "colab_type": "code",
        "colab": {}
      },
      "source": [
        ""
      ],
      "execution_count": null,
      "outputs": []
    }
  ]
}